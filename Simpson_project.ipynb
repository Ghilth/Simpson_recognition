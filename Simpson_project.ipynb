{
  "cells": [
    {
      "cell_type": "code",
      "execution_count": null,
      "metadata": {
        "id": "0jTtYkIaaX0T"
      },
      "outputs": [],
      "source": [
        "from google.colab import drive"
      ]
    },
    {
      "cell_type": "code",
      "execution_count": null,
      "metadata": {
        "colab": {
          "base_uri": "https://localhost:8080/"
        },
        "id": "W72BfxUrahTF",
        "outputId": "ead657e4-8f5b-4e4e-9506-dd59dcd3983c"
      },
      "outputs": [
        {
          "output_type": "stream",
          "name": "stdout",
          "text": [
            "Drive already mounted at /gdrive; to attempt to forcibly remount, call drive.mount(\"/gdrive\", force_remount=True).\n"
          ]
        }
      ],
      "source": [
        "drive.mount('/gdrive')"
      ]
    },
    {
      "cell_type": "code",
      "execution_count": null,
      "metadata": {
        "id": "8cq_fqB7aqJm"
      },
      "outputs": [],
      "source": [
        "import os"
      ]
    },
    {
      "cell_type": "code",
      "execution_count": null,
      "metadata": {
        "id": "NUe8LxkebCHL"
      },
      "outputs": [],
      "source": [
        "data_dir=\"/content/drive/MyDrive/Colab Notebooks/Tensorflow_CNN/Simpson/Simpson/Simp_dataset\"\n",
        "\n",
        "train_dir=os.path.join(data_dir, \"train\")\n",
        "test_dir=os.path.join(data_dir, \"test\")"
      ]
    },
    {
      "cell_type": "code",
      "execution_count": null,
      "metadata": {
        "colab": {
          "base_uri": "https://localhost:8080/"
        },
        "id": "KpAVQ8W9cVD0",
        "outputId": "e9bff5fb-5f8e-43ec-b95d-e1f51fde5836"
      },
      "outputs": [
        {
          "output_type": "execute_result",
          "data": {
            "text/plain": [
              "['maggie_simpson',\n",
              " 'ned_flanders',\n",
              " 'marge_simpson',\n",
              " 'milhouse_van_houten',\n",
              " 'homer_simpson',\n",
              " 'lisa_simpson',\n",
              " 'edna_krabappel',\n",
              " 'chief_wiggum',\n",
              " 'abraham_grampa_simpson',\n",
              " 'bart_simpson']"
            ]
          },
          "metadata": {},
          "execution_count": 4
        }
      ],
      "source": [
        "os.listdir(train_dir)"
      ]
    },
    {
      "cell_type": "code",
      "execution_count": null,
      "metadata": {
        "colab": {
          "base_uri": "https://localhost:8080/"
        },
        "id": "RDMZFNgKcbtL",
        "outputId": "cee74eb9-35b7-498f-9c44-cd1ff643b60e"
      },
      "outputs": [
        {
          "output_type": "stream",
          "name": "stdout",
          "text": [
            "Found 11221 images belonging to 10 classes.\n",
            "Found 485 images belonging to 10 classes.\n"
          ]
        }
      ],
      "source": [
        "#Labelisation des données avec ImageDataGenerator\n",
        "\n",
        "\n",
        "import tensorflow as tf\n",
        "\n",
        "from keras.preprocessing.image import ImageDataGenerator\n",
        "\n",
        "\n",
        "train_data_generator=ImageDataGenerator(rescale=1/255.0,)\n",
        "test_data_generator=ImageDataGenerator(rescale=1/255.0,)\n",
        "\n",
        "#Générer le training\n",
        "train_generator=train_data_generator.flow_from_directory(\n",
        "    directory=train_dir,\n",
        "    target_size=(224,224),\n",
        "    batch_size=32,\n",
        "    class_mode=\"categorical\",\n",
        ")\n",
        "\n",
        "\n",
        "#Générer le test\n",
        "test_generator=test_data_generator.flow_from_directory(\n",
        "    directory=test_dir,\n",
        "    target_size=(224,224),\n",
        "    batch_size=32,\n",
        "    class_mode=\"categorical\",\n",
        "\n",
        ")"
      ]
    },
    {
      "cell_type": "code",
      "execution_count": null,
      "metadata": {
        "colab": {
          "base_uri": "https://localhost:8080/"
        },
        "id": "pqClxL-VcySc",
        "outputId": "c9247619-9793-4ade-d61b-c660fcd50a71"
      },
      "outputs": [
        {
          "output_type": "execute_result",
          "data": {
            "text/plain": [
              "{'abraham_grampa_simpson': 0,\n",
              " 'bart_simpson': 1,\n",
              " 'chief_wiggum': 2,\n",
              " 'edna_krabappel': 3,\n",
              " 'homer_simpson': 4,\n",
              " 'lisa_simpson': 5,\n",
              " 'maggie_simpson': 6,\n",
              " 'marge_simpson': 7,\n",
              " 'milhouse_van_houten': 8,\n",
              " 'ned_flanders': 9}"
            ]
          },
          "metadata": {},
          "execution_count": 6
        }
      ],
      "source": [
        "train_generator.class_indices"
      ]
    },
    {
      "cell_type": "code",
      "execution_count": null,
      "metadata": {
        "colab": {
          "base_uri": "https://localhost:8080/"
        },
        "id": "wDCJLKoYe5_z",
        "outputId": "e9efc4e2-90e3-4c52-db39-42e7e58d15ed"
      },
      "outputs": [
        {
          "output_type": "stream",
          "name": "stdout",
          "text": [
            "[[[1. 0. 0. ... 0. 0. 0.]\n",
            "  [1. 0. 0. ... 0. 0. 0.]\n",
            "  [1. 0. 0. ... 0. 0. 0.]\n",
            "  ...\n",
            "  [1. 0. 0. ... 0. 0. 0.]\n",
            "  [1. 0. 0. ... 0. 0. 0.]\n",
            "  [1. 0. 0. ... 0. 0. 0.]]\n",
            "\n",
            " [[1. 0. 0. ... 0. 0. 0.]\n",
            "  [1. 0. 0. ... 0. 0. 0.]\n",
            "  [1. 0. 0. ... 0. 0. 0.]\n",
            "  ...\n",
            "  [1. 0. 0. ... 0. 0. 0.]\n",
            "  [1. 0. 0. ... 0. 0. 0.]\n",
            "  [1. 0. 0. ... 0. 0. 0.]]\n",
            "\n",
            " [[1. 0. 0. ... 0. 0. 0.]\n",
            "  [1. 0. 0. ... 0. 0. 0.]\n",
            "  [1. 0. 0. ... 0. 0. 0.]\n",
            "  ...\n",
            "  [1. 0. 0. ... 0. 0. 0.]\n",
            "  [1. 0. 0. ... 0. 0. 0.]\n",
            "  [0. 1. 0. ... 0. 0. 0.]]\n",
            "\n",
            " ...\n",
            "\n",
            " [[1. 0. 0. ... 0. 0. 0.]\n",
            "  [1. 0. 0. ... 0. 0. 0.]\n",
            "  [1. 0. 0. ... 0. 0. 0.]\n",
            "  ...\n",
            "  [1. 0. 0. ... 0. 0. 0.]\n",
            "  [1. 0. 0. ... 0. 0. 0.]\n",
            "  [1. 0. 0. ... 0. 0. 0.]]\n",
            "\n",
            " [[1. 0. 0. ... 0. 0. 0.]\n",
            "  [1. 0. 0. ... 0. 0. 0.]\n",
            "  [1. 0. 0. ... 0. 0. 0.]\n",
            "  ...\n",
            "  [0. 1. 0. ... 0. 0. 0.]\n",
            "  [1. 0. 0. ... 0. 0. 0.]\n",
            "  [1. 0. 0. ... 0. 0. 0.]]\n",
            "\n",
            " [[1. 0. 0. ... 0. 0. 0.]\n",
            "  [1. 0. 0. ... 0. 0. 0.]\n",
            "  [1. 0. 0. ... 0. 0. 0.]\n",
            "  ...\n",
            "  [1. 0. 0. ... 0. 0. 0.]\n",
            "  [1. 0. 0. ... 0. 0. 0.]\n",
            "  [1. 0. 0. ... 0. 0. 0.]]]\n"
          ]
        }
      ],
      "source": [
        "from keras.utils import to_categorical\n",
        "\n",
        "\n",
        "#Appliquer le one_hot encoding\n",
        "#train_images,train_labels=next(train_generator)\n",
        "\n",
        "\n",
        "train_generator.reset()\n",
        "train_images,train_labels=next(train_generator)\n",
        "\n",
        "train_labels = to_categorical(train_labels, num_classes=10)\n",
        "\n",
        "print(train_labels)\n",
        "\n"
      ]
    },
    {
      "cell_type": "code",
      "execution_count": null,
      "metadata": {
        "id": "cyT74gBu2sVY"
      },
      "outputs": [],
      "source": [
        "#Entrainement du modèle\n",
        "\n",
        "from tensorflow.keras.models import Sequential\n",
        "\n",
        "model=Sequential([\n",
        "    #Extraction des caractéristiques\n",
        "\n",
        "    tf.keras.layers.Conv2D(filters=32, kernel_size=(3,3), padding=\"same\", activation=\"relu\", input_shape=(224,224,3)),\n",
        "    tf.keras.layers.MaxPooling2D(2,2),\n",
        "    tf.keras.layers.Conv2D(filters=64, kernel_size=(3,3), activation=\"relu\"),\n",
        "    tf.keras.layers.MaxPooling2D(2,2),\n",
        "    tf.keras.layers.Conv2D(filters=128, kernel_size=(3,3), activation=\"relu\"),\n",
        "    tf.keras.layers.MaxPooling2D(2,2),\n",
        "    tf.keras.layers.Conv2D(filters=256, kernel_size=(3,3), activation=\"relu\"),\n",
        "    tf.keras.layers.MaxPooling2D(2,2),\n",
        "\n",
        "\n",
        "    #Applatir\n",
        "    tf.keras.layers.Flatten(),\n",
        "\n",
        "    #Dense\n",
        "    tf.keras.layers.Dense(units=256, activation=\"relu\"),\n",
        "    tf.keras.layers.Dense(units=128, activation=\"relu\"),\n",
        "    tf.keras.layers.Dense(units=10, activation=\"softmax\"),\n",
        "\n",
        "\n",
        "])"
      ]
    },
    {
      "cell_type": "code",
      "execution_count": null,
      "metadata": {
        "colab": {
          "base_uri": "https://localhost:8080/"
        },
        "id": "tfeQeAhz25aO",
        "outputId": "a1aab915-4982-4d4b-cf31-60b5a45e3ffb"
      },
      "outputs": [
        {
          "output_type": "stream",
          "name": "stdout",
          "text": [
            "Model: \"sequential\"\n",
            "_________________________________________________________________\n",
            " Layer (type)                Output Shape              Param #   \n",
            "=================================================================\n",
            " conv2d (Conv2D)             (None, 224, 224, 32)      896       \n",
            "                                                                 \n",
            " max_pooling2d (MaxPooling2  (None, 112, 112, 32)      0         \n",
            " D)                                                              \n",
            "                                                                 \n",
            " conv2d_1 (Conv2D)           (None, 110, 110, 64)      18496     \n",
            "                                                                 \n",
            " max_pooling2d_1 (MaxPoolin  (None, 55, 55, 64)        0         \n",
            " g2D)                                                            \n",
            "                                                                 \n",
            " conv2d_2 (Conv2D)           (None, 53, 53, 128)       73856     \n",
            "                                                                 \n",
            " max_pooling2d_2 (MaxPoolin  (None, 26, 26, 128)       0         \n",
            " g2D)                                                            \n",
            "                                                                 \n",
            " conv2d_3 (Conv2D)           (None, 24, 24, 256)       295168    \n",
            "                                                                 \n",
            " max_pooling2d_3 (MaxPoolin  (None, 12, 12, 256)       0         \n",
            " g2D)                                                            \n",
            "                                                                 \n",
            " flatten (Flatten)           (None, 36864)             0         \n",
            "                                                                 \n",
            " dense (Dense)               (None, 256)               9437440   \n",
            "                                                                 \n",
            " dense_1 (Dense)             (None, 128)               32896     \n",
            "                                                                 \n",
            " dense_2 (Dense)             (None, 10)                1290      \n",
            "                                                                 \n",
            "=================================================================\n",
            "Total params: 9860042 (37.61 MB)\n",
            "Trainable params: 9860042 (37.61 MB)\n",
            "Non-trainable params: 0 (0.00 Byte)\n",
            "_________________________________________________________________\n"
          ]
        }
      ],
      "source": [
        "model.summary()"
      ]
    },
    {
      "cell_type": "code",
      "execution_count": null,
      "metadata": {
        "id": "xSVHCrpD3jS7"
      },
      "outputs": [],
      "source": [
        "model.compile(optimizer=tf.keras.optimizers.RMSprop(learning_rate=0.001),\n",
        "              loss=\"categorical_crossentropy\",\n",
        "               metrics=['accuracy'])"
      ]
    },
    {
      "cell_type": "code",
      "execution_count": null,
      "metadata": {
        "id": "bGMwox6A3loM"
      },
      "outputs": [],
      "source": [
        "#definition des callbacks: ModelCheckpoint :  Permet d'enregistrer le meilleur modème à chaque itération\n",
        "\n",
        "from tensorflow.keras.callbacks import ModelCheckpoint\n",
        "\n",
        "best_model=\"best_model.h5\"\n",
        "\n",
        "model_ckp=ModelCheckpoint(filepath=best_model,\n",
        "                          monitor=\"val_accuracy\",\n",
        "                          mode=\"max\",\n",
        "                          save_best_only=True)"
      ]
    },
    {
      "cell_type": "code",
      "execution_count": null,
      "metadata": {
        "id": "keAg7J643uLe"
      },
      "outputs": [],
      "source": [
        "#definition des callbacks: Early Stopping (Permet d'arrêter l'entrainement si on obtient plus de meilleur modèle après 5 itérations)\n",
        "#Vous pouvez modifier la valeur 5 au nivau de \"patience\"\n",
        "\n",
        "stop=tf.keras.callbacks.EarlyStopping(monitor=\"val_accuracy\", patience=5)"
      ]
    },
    {
      "cell_type": "code",
      "execution_count": null,
      "metadata": {
        "id": "fPwqt3-Y32hK"
      },
      "outputs": [],
      "source": [
        "#h=model.fit(train_generator,epochs=10, validation_data=test_generator, callbacks=[model_ckp, stop])"
      ]
    },
    {
      "cell_type": "code",
      "execution_count": null,
      "metadata": {
        "id": "OL4mQ5dDAFsA"
      },
      "outputs": [],
      "source": [
        "#Sauvegarder le modèle\n",
        "  model.save(\"/content/drive/MyDrive/Colab Notebooks/Tensorflow_CNN/Simpson/Simpson/best_model.h5\")"
      ]
    }
  ],
  "metadata": {
    "colab": {
      "provenance": []
    },
    "kernelspec": {
      "display_name": "Python 3",
      "name": "python3"
    },
    "language_info": {
      "name": "python"
    }
  },
  "nbformat": 4,
  "nbformat_minor": 0
}